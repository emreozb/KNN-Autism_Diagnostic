{
 "cells": [
  {
   "cell_type": "markdown",
   "metadata": {},
   "source": [
    "# K Nearest Neighbors Project - Autism\n",
    "\n",
    "### Import Libraries\n",
    "**Importing pandas,seaborn, and the usual libraries.**"
   ]
  },
  {
   "cell_type": "code",
   "execution_count": 2,
   "metadata": {},
   "outputs": [],
   "source": [
    "import pandas as pd\n",
    "import numpy as np\n",
    "import matplotlib.pyplot as plt\n",
    "import seaborn as sns\n",
    "%matplotlib inline"
   ]
  },
  {
   "cell_type": "markdown",
   "metadata": {},
   "source": [
    "## Get the Data\n",
    "**Reading the 'Autism_Data_For_All_Ages.csv' file into a dataframe.**"
   ]
  },
  {
   "cell_type": "code",
   "execution_count": 3,
   "metadata": {},
   "outputs": [],
   "source": [
    "autism_df = pd.read_csv('Autism_Data_For_All_Ages.csv')"
   ]
  },
  {
   "cell_type": "markdown",
   "metadata": {},
   "source": [
    "**Checking the head of the dataframe.**"
   ]
  },
  {
   "cell_type": "code",
   "execution_count": 4,
   "metadata": {
    "scrolled": true
   },
   "outputs": [
    {
     "data": {
      "text/html": [
       "<div>\n",
       "<style scoped>\n",
       "    .dataframe tbody tr th:only-of-type {\n",
       "        vertical-align: middle;\n",
       "    }\n",
       "\n",
       "    .dataframe tbody tr th {\n",
       "        vertical-align: top;\n",
       "    }\n",
       "\n",
       "    .dataframe thead th {\n",
       "        text-align: right;\n",
       "    }\n",
       "</style>\n",
       "<table border=\"1\" class=\"dataframe\">\n",
       "  <thead>\n",
       "    <tr style=\"text-align: right;\">\n",
       "      <th></th>\n",
       "      <th>Case No</th>\n",
       "      <th>A1</th>\n",
       "      <th>A2</th>\n",
       "      <th>A3</th>\n",
       "      <th>A4</th>\n",
       "      <th>A5</th>\n",
       "      <th>A6</th>\n",
       "      <th>A7</th>\n",
       "      <th>A8</th>\n",
       "      <th>A9</th>\n",
       "      <th>...</th>\n",
       "      <th>Sex</th>\n",
       "      <th>Ethnicity</th>\n",
       "      <th>Jaundice</th>\n",
       "      <th>Family_ASD</th>\n",
       "      <th>Residence</th>\n",
       "      <th>Used_App_Before</th>\n",
       "      <th>Score</th>\n",
       "      <th>Screening Type</th>\n",
       "      <th>User</th>\n",
       "      <th>Class</th>\n",
       "    </tr>\n",
       "  </thead>\n",
       "  <tbody>\n",
       "    <tr>\n",
       "      <th>0</th>\n",
       "      <td>1</td>\n",
       "      <td>0</td>\n",
       "      <td>1</td>\n",
       "      <td>1</td>\n",
       "      <td>0</td>\n",
       "      <td>0</td>\n",
       "      <td>1</td>\n",
       "      <td>1</td>\n",
       "      <td>0</td>\n",
       "      <td>0</td>\n",
       "      <td>...</td>\n",
       "      <td>m</td>\n",
       "      <td>middle eastern</td>\n",
       "      <td>yes</td>\n",
       "      <td>no</td>\n",
       "      <td>Libya</td>\n",
       "      <td>no</td>\n",
       "      <td>5</td>\n",
       "      <td>4-11 years</td>\n",
       "      <td>parent</td>\n",
       "      <td>NO</td>\n",
       "    </tr>\n",
       "    <tr>\n",
       "      <th>1</th>\n",
       "      <td>3</td>\n",
       "      <td>0</td>\n",
       "      <td>1</td>\n",
       "      <td>1</td>\n",
       "      <td>1</td>\n",
       "      <td>1</td>\n",
       "      <td>1</td>\n",
       "      <td>1</td>\n",
       "      <td>0</td>\n",
       "      <td>0</td>\n",
       "      <td>...</td>\n",
       "      <td>m</td>\n",
       "      <td>middle eastern</td>\n",
       "      <td>yes</td>\n",
       "      <td>no</td>\n",
       "      <td>Libya</td>\n",
       "      <td>yes</td>\n",
       "      <td>7</td>\n",
       "      <td>4-11 years</td>\n",
       "      <td>parent</td>\n",
       "      <td>YES</td>\n",
       "    </tr>\n",
       "    <tr>\n",
       "      <th>2</th>\n",
       "      <td>4</td>\n",
       "      <td>0</td>\n",
       "      <td>1</td>\n",
       "      <td>1</td>\n",
       "      <td>1</td>\n",
       "      <td>1</td>\n",
       "      <td>1</td>\n",
       "      <td>0</td>\n",
       "      <td>1</td>\n",
       "      <td>1</td>\n",
       "      <td>...</td>\n",
       "      <td>m</td>\n",
       "      <td>white</td>\n",
       "      <td>no</td>\n",
       "      <td>no</td>\n",
       "      <td>Russia</td>\n",
       "      <td>no</td>\n",
       "      <td>8</td>\n",
       "      <td>4-11 years</td>\n",
       "      <td>parent</td>\n",
       "      <td>YES</td>\n",
       "    </tr>\n",
       "    <tr>\n",
       "      <th>3</th>\n",
       "      <td>8</td>\n",
       "      <td>0</td>\n",
       "      <td>1</td>\n",
       "      <td>1</td>\n",
       "      <td>0</td>\n",
       "      <td>1</td>\n",
       "      <td>1</td>\n",
       "      <td>1</td>\n",
       "      <td>0</td>\n",
       "      <td>0</td>\n",
       "      <td>...</td>\n",
       "      <td>m</td>\n",
       "      <td>middle eastern</td>\n",
       "      <td>yes</td>\n",
       "      <td>no</td>\n",
       "      <td>Libya</td>\n",
       "      <td>no</td>\n",
       "      <td>5</td>\n",
       "      <td>4-11 years</td>\n",
       "      <td>parent</td>\n",
       "      <td>NO</td>\n",
       "    </tr>\n",
       "    <tr>\n",
       "      <th>4</th>\n",
       "      <td>9</td>\n",
       "      <td>0</td>\n",
       "      <td>0</td>\n",
       "      <td>1</td>\n",
       "      <td>1</td>\n",
       "      <td>1</td>\n",
       "      <td>1</td>\n",
       "      <td>0</td>\n",
       "      <td>1</td>\n",
       "      <td>0</td>\n",
       "      <td>...</td>\n",
       "      <td>m</td>\n",
       "      <td>white</td>\n",
       "      <td>no</td>\n",
       "      <td>no</td>\n",
       "      <td>Russia</td>\n",
       "      <td>no</td>\n",
       "      <td>6</td>\n",
       "      <td>4-11 years</td>\n",
       "      <td>parent</td>\n",
       "      <td>NO</td>\n",
       "    </tr>\n",
       "  </tbody>\n",
       "</table>\n",
       "<p>5 rows × 22 columns</p>\n",
       "</div>"
      ],
      "text/plain": [
       "   Case No  A1  A2  A3  A4  A5  A6  A7  A8  A9  ...  Sex       Ethnicity  \\\n",
       "0        1   0   1   1   0   0   1   1   0   0  ...    m  middle eastern   \n",
       "1        3   0   1   1   1   1   1   1   0   0  ...    m  middle eastern   \n",
       "2        4   0   1   1   1   1   1   0   1   1  ...    m           white   \n",
       "3        8   0   1   1   0   1   1   1   0   0  ...    m  middle eastern   \n",
       "4        9   0   0   1   1   1   1   0   1   0  ...    m           white   \n",
       "\n",
       "  Jaundice  Family_ASD Residence Used_App_Before Score Screening Type    User  \\\n",
       "0       yes         no     Libya              no     5     4-11 years  parent   \n",
       "1       yes         no     Libya             yes     7     4-11 years  parent   \n",
       "2        no         no    Russia              no     8     4-11 years  parent   \n",
       "3       yes         no     Libya              no     5     4-11 years  parent   \n",
       "4        no         no    Russia              no     6     4-11 years  parent   \n",
       "\n",
       "  Class  \n",
       "0    NO  \n",
       "1   YES  \n",
       "2   YES  \n",
       "3    NO  \n",
       "4    NO  \n",
       "\n",
       "[5 rows x 22 columns]"
      ]
     },
     "execution_count": 4,
     "metadata": {},
     "output_type": "execute_result"
    }
   ],
   "source": [
    "autism_df.head()"
   ]
  },
  {
   "cell_type": "markdown",
   "metadata": {},
   "source": [
    "**Using info and describe() on autism_df**"
   ]
  },
  {
   "cell_type": "code",
   "execution_count": 5,
   "metadata": {},
   "outputs": [
    {
     "name": "stdout",
     "output_type": "stream",
     "text": [
      "<class 'pandas.core.frame.DataFrame'>\n",
      "RangeIndex: 1875 entries, 0 to 1874\n",
      "Data columns (total 22 columns):\n",
      "Case No            1875 non-null int64\n",
      "A1                 1875 non-null int64\n",
      "A2                 1875 non-null int64\n",
      "A3                 1875 non-null int64\n",
      "A4                 1875 non-null int64\n",
      "A5                 1875 non-null int64\n",
      "A6                 1875 non-null int64\n",
      "A7                 1875 non-null int64\n",
      "A8                 1875 non-null int64\n",
      "A9                 1875 non-null int64\n",
      "A10                1875 non-null int64\n",
      "Age                1875 non-null int64\n",
      "Sex                1875 non-null object\n",
      "Ethnicity          1874 non-null object\n",
      "Jaundice           1875 non-null object\n",
      "Family_ASD         1875 non-null object\n",
      "Residence          1875 non-null object\n",
      "Used_App_Before    1875 non-null object\n",
      "Score              1875 non-null int64\n",
      "Screening Type     1875 non-null object\n",
      "User               1875 non-null object\n",
      "Class              1875 non-null object\n",
      "dtypes: int64(13), object(9)\n",
      "memory usage: 322.4+ KB\n"
     ]
    }
   ],
   "source": [
    "autism_df.info()"
   ]
  },
  {
   "cell_type": "code",
   "execution_count": 6,
   "metadata": {
    "scrolled": true
   },
   "outputs": [
    {
     "data": {
      "text/html": [
       "<div>\n",
       "<style scoped>\n",
       "    .dataframe tbody tr th:only-of-type {\n",
       "        vertical-align: middle;\n",
       "    }\n",
       "\n",
       "    .dataframe tbody tr th {\n",
       "        vertical-align: top;\n",
       "    }\n",
       "\n",
       "    .dataframe thead th {\n",
       "        text-align: right;\n",
       "    }\n",
       "</style>\n",
       "<table border=\"1\" class=\"dataframe\">\n",
       "  <thead>\n",
       "    <tr style=\"text-align: right;\">\n",
       "      <th></th>\n",
       "      <th>Case No</th>\n",
       "      <th>A1</th>\n",
       "      <th>A2</th>\n",
       "      <th>A3</th>\n",
       "      <th>A4</th>\n",
       "      <th>A5</th>\n",
       "      <th>A6</th>\n",
       "      <th>A7</th>\n",
       "      <th>A8</th>\n",
       "      <th>A9</th>\n",
       "      <th>A10</th>\n",
       "      <th>Age</th>\n",
       "      <th>Score</th>\n",
       "    </tr>\n",
       "  </thead>\n",
       "  <tbody>\n",
       "    <tr>\n",
       "      <th>count</th>\n",
       "      <td>1875.000000</td>\n",
       "      <td>1875.000000</td>\n",
       "      <td>1875.000000</td>\n",
       "      <td>1875.000000</td>\n",
       "      <td>1875.000000</td>\n",
       "      <td>1875.000000</td>\n",
       "      <td>1875.000000</td>\n",
       "      <td>1875.000000</td>\n",
       "      <td>1875.000000</td>\n",
       "      <td>1875.000000</td>\n",
       "      <td>1875.000000</td>\n",
       "      <td>1875.000000</td>\n",
       "      <td>1875.000000</td>\n",
       "    </tr>\n",
       "    <tr>\n",
       "      <th>mean</th>\n",
       "      <td>1306.879467</td>\n",
       "      <td>0.713600</td>\n",
       "      <td>0.502933</td>\n",
       "      <td>0.585067</td>\n",
       "      <td>0.552533</td>\n",
       "      <td>0.595733</td>\n",
       "      <td>0.470400</td>\n",
       "      <td>0.487467</td>\n",
       "      <td>0.594667</td>\n",
       "      <td>0.448533</td>\n",
       "      <td>0.642133</td>\n",
       "      <td>21.565333</td>\n",
       "      <td>5.593067</td>\n",
       "    </tr>\n",
       "    <tr>\n",
       "      <th>std</th>\n",
       "      <td>694.996317</td>\n",
       "      <td>0.452199</td>\n",
       "      <td>0.500125</td>\n",
       "      <td>0.492842</td>\n",
       "      <td>0.497365</td>\n",
       "      <td>0.490880</td>\n",
       "      <td>0.499256</td>\n",
       "      <td>0.499976</td>\n",
       "      <td>0.491087</td>\n",
       "      <td>0.497477</td>\n",
       "      <td>0.479501</td>\n",
       "      <td>13.469455</td>\n",
       "      <td>2.525274</td>\n",
       "    </tr>\n",
       "    <tr>\n",
       "      <th>min</th>\n",
       "      <td>1.000000</td>\n",
       "      <td>0.000000</td>\n",
       "      <td>0.000000</td>\n",
       "      <td>0.000000</td>\n",
       "      <td>0.000000</td>\n",
       "      <td>0.000000</td>\n",
       "      <td>0.000000</td>\n",
       "      <td>0.000000</td>\n",
       "      <td>0.000000</td>\n",
       "      <td>0.000000</td>\n",
       "      <td>0.000000</td>\n",
       "      <td>4.000000</td>\n",
       "      <td>0.000000</td>\n",
       "    </tr>\n",
       "    <tr>\n",
       "      <th>25%</th>\n",
       "      <td>731.500000</td>\n",
       "      <td>0.000000</td>\n",
       "      <td>0.000000</td>\n",
       "      <td>0.000000</td>\n",
       "      <td>0.000000</td>\n",
       "      <td>0.000000</td>\n",
       "      <td>0.000000</td>\n",
       "      <td>0.000000</td>\n",
       "      <td>0.000000</td>\n",
       "      <td>0.000000</td>\n",
       "      <td>0.000000</td>\n",
       "      <td>11.000000</td>\n",
       "      <td>4.000000</td>\n",
       "    </tr>\n",
       "    <tr>\n",
       "      <th>50%</th>\n",
       "      <td>1307.000000</td>\n",
       "      <td>1.000000</td>\n",
       "      <td>1.000000</td>\n",
       "      <td>1.000000</td>\n",
       "      <td>1.000000</td>\n",
       "      <td>1.000000</td>\n",
       "      <td>0.000000</td>\n",
       "      <td>0.000000</td>\n",
       "      <td>1.000000</td>\n",
       "      <td>0.000000</td>\n",
       "      <td>1.000000</td>\n",
       "      <td>20.000000</td>\n",
       "      <td>6.000000</td>\n",
       "    </tr>\n",
       "    <tr>\n",
       "      <th>75%</th>\n",
       "      <td>1901.500000</td>\n",
       "      <td>1.000000</td>\n",
       "      <td>1.000000</td>\n",
       "      <td>1.000000</td>\n",
       "      <td>1.000000</td>\n",
       "      <td>1.000000</td>\n",
       "      <td>1.000000</td>\n",
       "      <td>1.000000</td>\n",
       "      <td>1.000000</td>\n",
       "      <td>1.000000</td>\n",
       "      <td>1.000000</td>\n",
       "      <td>30.000000</td>\n",
       "      <td>8.000000</td>\n",
       "    </tr>\n",
       "    <tr>\n",
       "      <th>max</th>\n",
       "      <td>2497.000000</td>\n",
       "      <td>1.000000</td>\n",
       "      <td>1.000000</td>\n",
       "      <td>1.000000</td>\n",
       "      <td>1.000000</td>\n",
       "      <td>1.000000</td>\n",
       "      <td>1.000000</td>\n",
       "      <td>1.000000</td>\n",
       "      <td>1.000000</td>\n",
       "      <td>1.000000</td>\n",
       "      <td>1.000000</td>\n",
       "      <td>80.000000</td>\n",
       "      <td>10.000000</td>\n",
       "    </tr>\n",
       "  </tbody>\n",
       "</table>\n",
       "</div>"
      ],
      "text/plain": [
       "           Case No           A1           A2           A3           A4  \\\n",
       "count  1875.000000  1875.000000  1875.000000  1875.000000  1875.000000   \n",
       "mean   1306.879467     0.713600     0.502933     0.585067     0.552533   \n",
       "std     694.996317     0.452199     0.500125     0.492842     0.497365   \n",
       "min       1.000000     0.000000     0.000000     0.000000     0.000000   \n",
       "25%     731.500000     0.000000     0.000000     0.000000     0.000000   \n",
       "50%    1307.000000     1.000000     1.000000     1.000000     1.000000   \n",
       "75%    1901.500000     1.000000     1.000000     1.000000     1.000000   \n",
       "max    2497.000000     1.000000     1.000000     1.000000     1.000000   \n",
       "\n",
       "                A5           A6           A7           A8           A9  \\\n",
       "count  1875.000000  1875.000000  1875.000000  1875.000000  1875.000000   \n",
       "mean      0.595733     0.470400     0.487467     0.594667     0.448533   \n",
       "std       0.490880     0.499256     0.499976     0.491087     0.497477   \n",
       "min       0.000000     0.000000     0.000000     0.000000     0.000000   \n",
       "25%       0.000000     0.000000     0.000000     0.000000     0.000000   \n",
       "50%       1.000000     0.000000     0.000000     1.000000     0.000000   \n",
       "75%       1.000000     1.000000     1.000000     1.000000     1.000000   \n",
       "max       1.000000     1.000000     1.000000     1.000000     1.000000   \n",
       "\n",
       "               A10          Age        Score  \n",
       "count  1875.000000  1875.000000  1875.000000  \n",
       "mean      0.642133    21.565333     5.593067  \n",
       "std       0.479501    13.469455     2.525274  \n",
       "min       0.000000     4.000000     0.000000  \n",
       "25%       0.000000    11.000000     4.000000  \n",
       "50%       1.000000    20.000000     6.000000  \n",
       "75%       1.000000    30.000000     8.000000  \n",
       "max       1.000000    80.000000    10.000000  "
      ]
     },
     "execution_count": 6,
     "metadata": {},
     "output_type": "execute_result"
    }
   ],
   "source": [
    "autism_df.describe()"
   ]
  },
  {
   "cell_type": "markdown",
   "metadata": {},
   "source": [
    "## Missing Data\n",
    "**Using Pandas to find missing value and filling it with appropriate value**"
   ]
  },
  {
   "cell_type": "code",
   "execution_count": 7,
   "metadata": {},
   "outputs": [
    {
     "data": {
      "text/html": [
       "<div>\n",
       "<style scoped>\n",
       "    .dataframe tbody tr th:only-of-type {\n",
       "        vertical-align: middle;\n",
       "    }\n",
       "\n",
       "    .dataframe tbody tr th {\n",
       "        vertical-align: top;\n",
       "    }\n",
       "\n",
       "    .dataframe thead th {\n",
       "        text-align: right;\n",
       "    }\n",
       "</style>\n",
       "<table border=\"1\" class=\"dataframe\">\n",
       "  <thead>\n",
       "    <tr style=\"text-align: right;\">\n",
       "      <th></th>\n",
       "      <th>Case No</th>\n",
       "      <th>A1</th>\n",
       "      <th>A2</th>\n",
       "      <th>A3</th>\n",
       "      <th>A4</th>\n",
       "      <th>A5</th>\n",
       "      <th>A6</th>\n",
       "      <th>A7</th>\n",
       "      <th>A8</th>\n",
       "      <th>A9</th>\n",
       "      <th>...</th>\n",
       "      <th>Sex</th>\n",
       "      <th>Ethnicity</th>\n",
       "      <th>Jaundice</th>\n",
       "      <th>Family_ASD</th>\n",
       "      <th>Residence</th>\n",
       "      <th>Used_App_Before</th>\n",
       "      <th>Score</th>\n",
       "      <th>Screening Type</th>\n",
       "      <th>User</th>\n",
       "      <th>Class</th>\n",
       "    </tr>\n",
       "  </thead>\n",
       "  <tbody>\n",
       "    <tr>\n",
       "      <th>557</th>\n",
       "      <td>328</td>\n",
       "      <td>0</td>\n",
       "      <td>0</td>\n",
       "      <td>0</td>\n",
       "      <td>0</td>\n",
       "      <td>0</td>\n",
       "      <td>0</td>\n",
       "      <td>0</td>\n",
       "      <td>1</td>\n",
       "      <td>0</td>\n",
       "      <td>...</td>\n",
       "      <td>m</td>\n",
       "      <td>NaN</td>\n",
       "      <td>yes</td>\n",
       "      <td>yes</td>\n",
       "      <td>United Arab Emirates</td>\n",
       "      <td>no</td>\n",
       "      <td>1</td>\n",
       "      <td>17 and more</td>\n",
       "      <td>self</td>\n",
       "      <td>NO</td>\n",
       "    </tr>\n",
       "  </tbody>\n",
       "</table>\n",
       "<p>1 rows × 22 columns</p>\n",
       "</div>"
      ],
      "text/plain": [
       "     Case No  A1  A2  A3  A4  A5  A6  A7  A8  A9  ...  Sex  Ethnicity  \\\n",
       "557      328   0   0   0   0   0   0   0   1   0  ...    m        NaN   \n",
       "\n",
       "    Jaundice  Family_ASD             Residence Used_App_Before Score  \\\n",
       "557       yes        yes  United Arab Emirates              no     1   \n",
       "\n",
       "    Screening Type  User Class  \n",
       "557    17 and more  self    NO  \n",
       "\n",
       "[1 rows x 22 columns]"
      ]
     },
     "execution_count": 7,
     "metadata": {},
     "output_type": "execute_result"
    }
   ],
   "source": [
    "autism_df[(autism_df['Ethnicity'].isnull() == True)]"
   ]
  },
  {
   "cell_type": "code",
   "execution_count": 8,
   "metadata": {},
   "outputs": [],
   "source": [
    "autism_df['Ethnicity'] = autism_df['Ethnicity'].fillna('middle eastern')"
   ]
  },
  {
   "cell_type": "code",
   "execution_count": 9,
   "metadata": {},
   "outputs": [
    {
     "name": "stdout",
     "output_type": "stream",
     "text": [
      "<class 'pandas.core.frame.DataFrame'>\n",
      "RangeIndex: 1875 entries, 0 to 1874\n",
      "Data columns (total 22 columns):\n",
      "Case No            1875 non-null int64\n",
      "A1                 1875 non-null int64\n",
      "A2                 1875 non-null int64\n",
      "A3                 1875 non-null int64\n",
      "A4                 1875 non-null int64\n",
      "A5                 1875 non-null int64\n",
      "A6                 1875 non-null int64\n",
      "A7                 1875 non-null int64\n",
      "A8                 1875 non-null int64\n",
      "A9                 1875 non-null int64\n",
      "A10                1875 non-null int64\n",
      "Age                1875 non-null int64\n",
      "Sex                1875 non-null object\n",
      "Ethnicity          1875 non-null object\n",
      "Jaundice           1875 non-null object\n",
      "Family_ASD         1875 non-null object\n",
      "Residence          1875 non-null object\n",
      "Used_App_Before    1875 non-null object\n",
      "Score              1875 non-null int64\n",
      "Screening Type     1875 non-null object\n",
      "User               1875 non-null object\n",
      "Class              1875 non-null object\n",
      "dtypes: int64(13), object(9)\n",
      "memory usage: 322.4+ KB\n"
     ]
    }
   ],
   "source": [
    "autism_df.info()"
   ]
  },
  {
   "cell_type": "markdown",
   "metadata": {},
   "source": [
    "**Getting dummies to replace categorical variables**"
   ]
  },
  {
   "cell_type": "code",
   "execution_count": 10,
   "metadata": {},
   "outputs": [],
   "source": [
    "ethnicities = pd.get_dummies(autism_df['Ethnicity'], drop_first=True)\n",
    "jaundice = pd.get_dummies(autism_df['Jaundice '], drop_first=True)\n",
    "jaundice.rename(columns = {'yes' : 'Jaundice-Yes'}, inplace = True)\n",
    "male = pd.get_dummies(autism_df['Sex'], drop_first=True)\n",
    "male.rename(columns = {'m' : 'Male'}, inplace = True)\n",
    "family_asd = pd.get_dummies(autism_df['Family_ASD'], drop_first=True)\n",
    "family_asd.rename(columns = {'yes' : 'FamilyASD-YES'}, inplace = True)\n",
    "used_app = pd.get_dummies(autism_df['Used_App_Before'], drop_first=True)\n",
    "used_app.rename(columns = {'yes' : 'UsedApp-YES'}, inplace = True)\n",
    "screening_ages = pd.get_dummies(autism_df['Screening Type'], drop_first=True)\n",
    "user =  pd.get_dummies(autism_df['User'], drop_first=True)\n",
    "class_ASD = pd.get_dummies(autism_df['Class'], drop_first=True)\n",
    "class_ASD.rename(columns = {'YES' : 'ASD-YES'}, inplace = True)\n",
    "questions = autism_df[['A1', 'A2', 'A3', 'A4', 'A5', 'A6', 'A7', 'A8', 'A9', 'A10']]"
   ]
  },
  {
   "cell_type": "code",
   "execution_count": 11,
   "metadata": {},
   "outputs": [],
   "source": [
    "final_dataset = pd.concat([questions, male, ethnicities, family_asd, used_app, screening_ages, user, class_ASD], axis = 1)"
   ]
  },
  {
   "cell_type": "code",
   "execution_count": 13,
   "metadata": {
    "scrolled": true
   },
   "outputs": [
    {
     "data": {
      "text/html": [
       "<div>\n",
       "<style scoped>\n",
       "    .dataframe tbody tr th:only-of-type {\n",
       "        vertical-align: middle;\n",
       "    }\n",
       "\n",
       "    .dataframe tbody tr th {\n",
       "        vertical-align: top;\n",
       "    }\n",
       "\n",
       "    .dataframe thead th {\n",
       "        text-align: right;\n",
       "    }\n",
       "</style>\n",
       "<table border=\"1\" class=\"dataframe\">\n",
       "  <thead>\n",
       "    <tr style=\"text-align: right;\">\n",
       "      <th></th>\n",
       "      <th>A1</th>\n",
       "      <th>A2</th>\n",
       "      <th>A3</th>\n",
       "      <th>A4</th>\n",
       "      <th>A5</th>\n",
       "      <th>A6</th>\n",
       "      <th>A7</th>\n",
       "      <th>A8</th>\n",
       "      <th>A9</th>\n",
       "      <th>A10</th>\n",
       "      <th>...</th>\n",
       "      <th>UsedApp-YES</th>\n",
       "      <th>17 and more</th>\n",
       "      <th>4-11 years</th>\n",
       "      <th>health care professional</th>\n",
       "      <th>others</th>\n",
       "      <th>parent</th>\n",
       "      <th>relative</th>\n",
       "      <th>self</th>\n",
       "      <th>teacher</th>\n",
       "      <th>ASD-YES</th>\n",
       "    </tr>\n",
       "  </thead>\n",
       "  <tbody>\n",
       "    <tr>\n",
       "      <th>0</th>\n",
       "      <td>0</td>\n",
       "      <td>1</td>\n",
       "      <td>1</td>\n",
       "      <td>0</td>\n",
       "      <td>0</td>\n",
       "      <td>1</td>\n",
       "      <td>1</td>\n",
       "      <td>0</td>\n",
       "      <td>0</td>\n",
       "      <td>1</td>\n",
       "      <td>...</td>\n",
       "      <td>0</td>\n",
       "      <td>0</td>\n",
       "      <td>1</td>\n",
       "      <td>0</td>\n",
       "      <td>0</td>\n",
       "      <td>1</td>\n",
       "      <td>0</td>\n",
       "      <td>0</td>\n",
       "      <td>0</td>\n",
       "      <td>0</td>\n",
       "    </tr>\n",
       "    <tr>\n",
       "      <th>1</th>\n",
       "      <td>0</td>\n",
       "      <td>1</td>\n",
       "      <td>1</td>\n",
       "      <td>1</td>\n",
       "      <td>1</td>\n",
       "      <td>1</td>\n",
       "      <td>1</td>\n",
       "      <td>0</td>\n",
       "      <td>0</td>\n",
       "      <td>1</td>\n",
       "      <td>...</td>\n",
       "      <td>1</td>\n",
       "      <td>0</td>\n",
       "      <td>1</td>\n",
       "      <td>0</td>\n",
       "      <td>0</td>\n",
       "      <td>1</td>\n",
       "      <td>0</td>\n",
       "      <td>0</td>\n",
       "      <td>0</td>\n",
       "      <td>1</td>\n",
       "    </tr>\n",
       "    <tr>\n",
       "      <th>2</th>\n",
       "      <td>0</td>\n",
       "      <td>1</td>\n",
       "      <td>1</td>\n",
       "      <td>1</td>\n",
       "      <td>1</td>\n",
       "      <td>1</td>\n",
       "      <td>0</td>\n",
       "      <td>1</td>\n",
       "      <td>1</td>\n",
       "      <td>1</td>\n",
       "      <td>...</td>\n",
       "      <td>0</td>\n",
       "      <td>0</td>\n",
       "      <td>1</td>\n",
       "      <td>0</td>\n",
       "      <td>0</td>\n",
       "      <td>1</td>\n",
       "      <td>0</td>\n",
       "      <td>0</td>\n",
       "      <td>0</td>\n",
       "      <td>1</td>\n",
       "    </tr>\n",
       "  </tbody>\n",
       "</table>\n",
       "<p>3 rows × 30 columns</p>\n",
       "</div>"
      ],
      "text/plain": [
       "   A1  A2  A3  A4  A5  A6  A7  A8  A9  A10  ...  UsedApp-YES  17 and more  \\\n",
       "0   0   1   1   0   0   1   1   0   0    1  ...            0            0   \n",
       "1   0   1   1   1   1   1   1   0   0    1  ...            1            0   \n",
       "2   0   1   1   1   1   1   0   1   1    1  ...            0            0   \n",
       "\n",
       "   4-11 years  health care professional  others  parent  relative  self  \\\n",
       "0           1                         0       0       1         0     0   \n",
       "1           1                         0       0       1         0     0   \n",
       "2           1                         0       0       1         0     0   \n",
       "\n",
       "   teacher  ASD-YES  \n",
       "0        0        0  \n",
       "1        0        1  \n",
       "2        0        1  \n",
       "\n",
       "[3 rows x 30 columns]"
      ]
     },
     "execution_count": 13,
     "metadata": {},
     "output_type": "execute_result"
    }
   ],
   "source": [
    "final_dataset.head(3)"
   ]
  },
  {
   "cell_type": "markdown",
   "metadata": {},
   "source": [
    "## Standardize the Variables\n",
    "**Importing StandardScaler from Scikit learn.**"
   ]
  },
  {
   "cell_type": "code",
   "execution_count": 15,
   "metadata": {},
   "outputs": [],
   "source": [
    "from sklearn.preprocessing import StandardScaler"
   ]
  },
  {
   "cell_type": "code",
   "execution_count": 16,
   "metadata": {},
   "outputs": [],
   "source": [
    "scaler = StandardScaler()"
   ]
  },
  {
   "cell_type": "code",
   "execution_count": 17,
   "metadata": {},
   "outputs": [
    {
     "data": {
      "text/plain": [
       "StandardScaler(copy=True, with_mean=True, with_std=True)"
      ]
     },
     "execution_count": 17,
     "metadata": {},
     "output_type": "execute_result"
    }
   ],
   "source": [
    "scaler.fit(final_dataset.drop('ASD-YES',axis=1))"
   ]
  },
  {
   "cell_type": "markdown",
   "metadata": {},
   "source": [
    "**Using the .transform() method to transform the features to a scaled version.**"
   ]
  },
  {
   "cell_type": "code",
   "execution_count": 18,
   "metadata": {},
   "outputs": [],
   "source": [
    "scaled_features = scaler.transform(final_dataset.drop('ASD-YES', axis = 1))"
   ]
  },
  {
   "cell_type": "markdown",
   "metadata": {},
   "source": [
    "**Converting the scaled features to a dataframe and check the head of this dataframe to make sure the scaling worked.**"
   ]
  },
  {
   "cell_type": "code",
   "execution_count": 19,
   "metadata": {},
   "outputs": [
    {
     "data": {
      "text/html": [
       "<div>\n",
       "<style scoped>\n",
       "    .dataframe tbody tr th:only-of-type {\n",
       "        vertical-align: middle;\n",
       "    }\n",
       "\n",
       "    .dataframe tbody tr th {\n",
       "        vertical-align: top;\n",
       "    }\n",
       "\n",
       "    .dataframe thead th {\n",
       "        text-align: right;\n",
       "    }\n",
       "</style>\n",
       "<table border=\"1\" class=\"dataframe\">\n",
       "  <thead>\n",
       "    <tr style=\"text-align: right;\">\n",
       "      <th></th>\n",
       "      <th>A1</th>\n",
       "      <th>A2</th>\n",
       "      <th>A3</th>\n",
       "      <th>A4</th>\n",
       "      <th>A5</th>\n",
       "      <th>A6</th>\n",
       "      <th>A7</th>\n",
       "      <th>A8</th>\n",
       "      <th>A9</th>\n",
       "      <th>A10</th>\n",
       "      <th>...</th>\n",
       "      <th>FamilyASD-YES</th>\n",
       "      <th>UsedApp-YES</th>\n",
       "      <th>17 and more</th>\n",
       "      <th>4-11 years</th>\n",
       "      <th>health care professional</th>\n",
       "      <th>others</th>\n",
       "      <th>parent</th>\n",
       "      <th>relative</th>\n",
       "      <th>self</th>\n",
       "      <th>teacher</th>\n",
       "    </tr>\n",
       "  </thead>\n",
       "  <tbody>\n",
       "    <tr>\n",
       "      <th>0</th>\n",
       "      <td>-1.578487</td>\n",
       "      <td>0.994150</td>\n",
       "      <td>0.842144</td>\n",
       "      <td>-1.111217</td>\n",
       "      <td>-1.213925</td>\n",
       "      <td>1.061061</td>\n",
       "      <td>1.025389</td>\n",
       "      <td>-1.211241</td>\n",
       "      <td>-0.901857</td>\n",
       "      <td>0.746531</td>\n",
       "      <td>...</td>\n",
       "      <td>-0.447643</td>\n",
       "      <td>-0.162088</td>\n",
       "      <td>-1.215271</td>\n",
       "      <td>1.638198</td>\n",
       "      <td>-0.163813</td>\n",
       "      <td>-0.113868</td>\n",
       "      <td>1.345769</td>\n",
       "      <td>-0.225852</td>\n",
       "      <td>-1.111217</td>\n",
       "      <td>-0.040032</td>\n",
       "    </tr>\n",
       "    <tr>\n",
       "      <th>1</th>\n",
       "      <td>-1.578487</td>\n",
       "      <td>0.994150</td>\n",
       "      <td>0.842144</td>\n",
       "      <td>0.899914</td>\n",
       "      <td>0.823774</td>\n",
       "      <td>1.061061</td>\n",
       "      <td>1.025389</td>\n",
       "      <td>-1.211241</td>\n",
       "      <td>-0.901857</td>\n",
       "      <td>0.746531</td>\n",
       "      <td>...</td>\n",
       "      <td>-0.447643</td>\n",
       "      <td>6.169481</td>\n",
       "      <td>-1.215271</td>\n",
       "      <td>1.638198</td>\n",
       "      <td>-0.163813</td>\n",
       "      <td>-0.113868</td>\n",
       "      <td>1.345769</td>\n",
       "      <td>-0.225852</td>\n",
       "      <td>-1.111217</td>\n",
       "      <td>-0.040032</td>\n",
       "    </tr>\n",
       "    <tr>\n",
       "      <th>2</th>\n",
       "      <td>-1.578487</td>\n",
       "      <td>0.994150</td>\n",
       "      <td>0.842144</td>\n",
       "      <td>0.899914</td>\n",
       "      <td>0.823774</td>\n",
       "      <td>1.061061</td>\n",
       "      <td>-0.975240</td>\n",
       "      <td>0.825599</td>\n",
       "      <td>1.108823</td>\n",
       "      <td>0.746531</td>\n",
       "      <td>...</td>\n",
       "      <td>-0.447643</td>\n",
       "      <td>-0.162088</td>\n",
       "      <td>-1.215271</td>\n",
       "      <td>1.638198</td>\n",
       "      <td>-0.163813</td>\n",
       "      <td>-0.113868</td>\n",
       "      <td>1.345769</td>\n",
       "      <td>-0.225852</td>\n",
       "      <td>-1.111217</td>\n",
       "      <td>-0.040032</td>\n",
       "    </tr>\n",
       "    <tr>\n",
       "      <th>3</th>\n",
       "      <td>-1.578487</td>\n",
       "      <td>0.994150</td>\n",
       "      <td>0.842144</td>\n",
       "      <td>-1.111217</td>\n",
       "      <td>0.823774</td>\n",
       "      <td>1.061061</td>\n",
       "      <td>1.025389</td>\n",
       "      <td>-1.211241</td>\n",
       "      <td>-0.901857</td>\n",
       "      <td>-1.339529</td>\n",
       "      <td>...</td>\n",
       "      <td>-0.447643</td>\n",
       "      <td>-0.162088</td>\n",
       "      <td>-1.215271</td>\n",
       "      <td>1.638198</td>\n",
       "      <td>-0.163813</td>\n",
       "      <td>-0.113868</td>\n",
       "      <td>1.345769</td>\n",
       "      <td>-0.225852</td>\n",
       "      <td>-1.111217</td>\n",
       "      <td>-0.040032</td>\n",
       "    </tr>\n",
       "    <tr>\n",
       "      <th>4</th>\n",
       "      <td>-1.578487</td>\n",
       "      <td>-1.005884</td>\n",
       "      <td>0.842144</td>\n",
       "      <td>0.899914</td>\n",
       "      <td>0.823774</td>\n",
       "      <td>1.061061</td>\n",
       "      <td>-0.975240</td>\n",
       "      <td>0.825599</td>\n",
       "      <td>-0.901857</td>\n",
       "      <td>0.746531</td>\n",
       "      <td>...</td>\n",
       "      <td>-0.447643</td>\n",
       "      <td>-0.162088</td>\n",
       "      <td>-1.215271</td>\n",
       "      <td>1.638198</td>\n",
       "      <td>-0.163813</td>\n",
       "      <td>-0.113868</td>\n",
       "      <td>1.345769</td>\n",
       "      <td>-0.225852</td>\n",
       "      <td>-1.111217</td>\n",
       "      <td>-0.040032</td>\n",
       "    </tr>\n",
       "  </tbody>\n",
       "</table>\n",
       "<p>5 rows × 29 columns</p>\n",
       "</div>"
      ],
      "text/plain": [
       "         A1        A2        A3        A4        A5        A6        A7  \\\n",
       "0 -1.578487  0.994150  0.842144 -1.111217 -1.213925  1.061061  1.025389   \n",
       "1 -1.578487  0.994150  0.842144  0.899914  0.823774  1.061061  1.025389   \n",
       "2 -1.578487  0.994150  0.842144  0.899914  0.823774  1.061061 -0.975240   \n",
       "3 -1.578487  0.994150  0.842144 -1.111217  0.823774  1.061061  1.025389   \n",
       "4 -1.578487 -1.005884  0.842144  0.899914  0.823774  1.061061 -0.975240   \n",
       "\n",
       "         A8        A9       A10  ...  FamilyASD-YES  UsedApp-YES  17 and more  \\\n",
       "0 -1.211241 -0.901857  0.746531  ...      -0.447643    -0.162088    -1.215271   \n",
       "1 -1.211241 -0.901857  0.746531  ...      -0.447643     6.169481    -1.215271   \n",
       "2  0.825599  1.108823  0.746531  ...      -0.447643    -0.162088    -1.215271   \n",
       "3 -1.211241 -0.901857 -1.339529  ...      -0.447643    -0.162088    -1.215271   \n",
       "4  0.825599 -0.901857  0.746531  ...      -0.447643    -0.162088    -1.215271   \n",
       "\n",
       "   4-11 years  health care professional    others    parent  relative  \\\n",
       "0    1.638198                 -0.163813 -0.113868  1.345769 -0.225852   \n",
       "1    1.638198                 -0.163813 -0.113868  1.345769 -0.225852   \n",
       "2    1.638198                 -0.163813 -0.113868  1.345769 -0.225852   \n",
       "3    1.638198                 -0.163813 -0.113868  1.345769 -0.225852   \n",
       "4    1.638198                 -0.163813 -0.113868  1.345769 -0.225852   \n",
       "\n",
       "       self   teacher  \n",
       "0 -1.111217 -0.040032  \n",
       "1 -1.111217 -0.040032  \n",
       "2 -1.111217 -0.040032  \n",
       "3 -1.111217 -0.040032  \n",
       "4 -1.111217 -0.040032  \n",
       "\n",
       "[5 rows x 29 columns]"
      ]
     },
     "execution_count": 19,
     "metadata": {},
     "output_type": "execute_result"
    }
   ],
   "source": [
    "df_scaled = pd.DataFrame(scaled_features, columns = final_dataset.columns[:-1])\n",
    "df_scaled.head()"
   ]
  },
  {
   "cell_type": "markdown",
   "metadata": {},
   "source": [
    "## Train Test Split\n",
    "\n",
    "**Using train_test_split to split your data into a training set and a testing set.**"
   ]
  },
  {
   "cell_type": "code",
   "execution_count": 20,
   "metadata": {},
   "outputs": [],
   "source": [
    "from sklearn.model_selection import train_test_split"
   ]
  },
  {
   "cell_type": "code",
   "execution_count": 21,
   "metadata": {},
   "outputs": [],
   "source": [
    " X_train, X_test, y_train, y_test = train_test_split(scaled_features, \n",
    "                            final_dataset['ASD-YES'], test_size=0.33)"
   ]
  },
  {
   "cell_type": "markdown",
   "metadata": {},
   "source": [
    "## Using KNN\n",
    "\n",
    "**Importing KNeighborsClassifier from scikit learn.**"
   ]
  },
  {
   "cell_type": "code",
   "execution_count": 22,
   "metadata": {},
   "outputs": [],
   "source": [
    "from sklearn.neighbors import KNeighborsClassifier"
   ]
  },
  {
   "cell_type": "markdown",
   "metadata": {},
   "source": [
    "**Creating a KNN model instance with n_neighbors=1**"
   ]
  },
  {
   "cell_type": "code",
   "execution_count": 23,
   "metadata": {},
   "outputs": [],
   "source": [
    "knn = KNeighborsClassifier(n_neighbors = 1)"
   ]
  },
  {
   "cell_type": "markdown",
   "metadata": {},
   "source": [
    "**Fitting this KNN model to the training data.**"
   ]
  },
  {
   "cell_type": "code",
   "execution_count": 24,
   "metadata": {},
   "outputs": [
    {
     "data": {
      "text/plain": [
       "KNeighborsClassifier(algorithm='auto', leaf_size=30, metric='minkowski',\n",
       "                     metric_params=None, n_jobs=None, n_neighbors=1, p=2,\n",
       "                     weights='uniform')"
      ]
     },
     "execution_count": 24,
     "metadata": {},
     "output_type": "execute_result"
    }
   ],
   "source": [
    "knn.fit(X_train, y_train)"
   ]
  },
  {
   "cell_type": "markdown",
   "metadata": {},
   "source": [
    "## Predictions and Evaluations\n",
    "**Using the predict method to predict values using your KNN model and X_test.**"
   ]
  },
  {
   "cell_type": "code",
   "execution_count": 25,
   "metadata": {},
   "outputs": [],
   "source": [
    "predictions = knn.predict(X_test)"
   ]
  },
  {
   "cell_type": "code",
   "execution_count": 26,
   "metadata": {},
   "outputs": [],
   "source": [
    "from sklearn.metrics import classification_report, confusion_matrix, accuracy_score"
   ]
  },
  {
   "cell_type": "markdown",
   "metadata": {},
   "source": [
    "**Creating a confusion matrix and classification report.**"
   ]
  },
  {
   "cell_type": "code",
   "execution_count": 27,
   "metadata": {},
   "outputs": [
    {
     "name": "stdout",
     "output_type": "stream",
     "text": [
      "[[316  53]\n",
      " [ 36 214]]\n"
     ]
    }
   ],
   "source": [
    "print(confusion_matrix(y_test, predictions))"
   ]
  },
  {
   "cell_type": "code",
   "execution_count": 28,
   "metadata": {},
   "outputs": [
    {
     "name": "stdout",
     "output_type": "stream",
     "text": [
      "              precision    recall  f1-score   support\n",
      "\n",
      "           0       0.90      0.86      0.88       369\n",
      "           1       0.80      0.86      0.83       250\n",
      "\n",
      "    accuracy                           0.86       619\n",
      "   macro avg       0.85      0.86      0.85       619\n",
      "weighted avg       0.86      0.86      0.86       619\n",
      "\n"
     ]
    }
   ],
   "source": [
    "print(classification_report(y_test, predictions))"
   ]
  },
  {
   "cell_type": "markdown",
   "metadata": {},
   "source": [
    "## Choosing a K Value\n",
    "\n",
    "**Creating a for loop that trains various KNN models with different k values, then keep track of the error_rate for each of these models with a list. Refer to the lecture if you are confused on this step.**"
   ]
  },
  {
   "cell_type": "code",
   "execution_count": 29,
   "metadata": {},
   "outputs": [],
   "source": [
    "def accuracy(predictions,y_test):\n",
    "    return np.sum(predictions == y_test)/len(y_test)"
   ]
  },
  {
   "cell_type": "code",
   "execution_count": 30,
   "metadata": {},
   "outputs": [],
   "source": [
    "error_rate = []\n",
    "scores = {}\n",
    "scores_list =[]\n",
    "for i in range(1,100):\n",
    "    knn = KNeighborsClassifier(n_neighbors = i)\n",
    "    knn.fit(X_train, y_train)\n",
    "    pred_i = knn.predict(X_test)\n",
    "    error_rate.append(np.mean(pred_i != y_test))\n",
    "    scores[i]=accuracy(pred_i, y_test)\n",
    "    scores_list.append(accuracy(pred_i, y_test))"
   ]
  },
  {
   "cell_type": "code",
   "execution_count": 31,
   "metadata": {},
   "outputs": [
    {
     "data": {
      "text/plain": [
       "{1: 0.8562197092084006,\n",
       " 2: 0.875605815831987,\n",
       " 3: 0.8869143780290791,\n",
       " 4: 0.9046849757673667,\n",
       " 5: 0.9063004846526656,\n",
       " 6: 0.9046849757673667,\n",
       " 7: 0.901453957996769,\n",
       " 8: 0.9159935379644588,\n",
       " 9: 0.9046849757673667,\n",
       " 10: 0.9176090468497576,\n",
       " 11: 0.9079159935379645,\n",
       " 12: 0.9143780290791599,\n",
       " 13: 0.8982229402261712,\n",
       " 14: 0.9143780290791599,\n",
       " 15: 0.9063004846526656,\n",
       " 16: 0.9079159935379645,\n",
       " 17: 0.8966074313408724,\n",
       " 18: 0.9111470113085622,\n",
       " 19: 0.9030694668820679,\n",
       " 20: 0.9143780290791599,\n",
       " 21: 0.901453957996769,\n",
       " 22: 0.9111470113085622,\n",
       " 23: 0.8982229402261712,\n",
       " 24: 0.9079159935379645,\n",
       " 25: 0.9030694668820679,\n",
       " 26: 0.9127625201938611,\n",
       " 27: 0.9063004846526656,\n",
       " 28: 0.9111470113085622,\n",
       " 29: 0.9079159935379645,\n",
       " 30: 0.9159935379644588,\n",
       " 31: 0.9127625201938611,\n",
       " 32: 0.9192245557350566,\n",
       " 33: 0.9095315024232633,\n",
       " 34: 0.9127625201938611,\n",
       " 35: 0.9079159935379645,\n",
       " 36: 0.9127625201938611,\n",
       " 37: 0.9127625201938611,\n",
       " 38: 0.9159935379644588,\n",
       " 39: 0.9176090468497576,\n",
       " 40: 0.9192245557350566,\n",
       " 41: 0.9127625201938611,\n",
       " 42: 0.9143780290791599,\n",
       " 43: 0.9176090468497576,\n",
       " 44: 0.9159935379644588,\n",
       " 45: 0.9176090468497576,\n",
       " 46: 0.9208400646203554,\n",
       " 47: 0.9224555735056543,\n",
       " 48: 0.925686591276252,\n",
       " 49: 0.9240710823909531,\n",
       " 50: 0.9273021001615509,\n",
       " 51: 0.9208400646203554,\n",
       " 52: 0.9208400646203554,\n",
       " 53: 0.9224555735056543,\n",
       " 54: 0.9240710823909531,\n",
       " 55: 0.9240710823909531,\n",
       " 56: 0.9224555735056543,\n",
       " 57: 0.9224555735056543,\n",
       " 58: 0.9192245557350566,\n",
       " 59: 0.9159935379644588,\n",
       " 60: 0.9176090468497576,\n",
       " 61: 0.9192245557350566,\n",
       " 62: 0.9192245557350566,\n",
       " 63: 0.9208400646203554,\n",
       " 64: 0.9224555735056543,\n",
       " 65: 0.9159935379644588,\n",
       " 66: 0.9176090468497576,\n",
       " 67: 0.9143780290791599,\n",
       " 68: 0.9176090468497576,\n",
       " 69: 0.9208400646203554,\n",
       " 70: 0.9176090468497576,\n",
       " 71: 0.9127625201938611,\n",
       " 72: 0.9143780290791599,\n",
       " 73: 0.9143780290791599,\n",
       " 74: 0.9224555735056543,\n",
       " 75: 0.9192245557350566,\n",
       " 76: 0.9208400646203554,\n",
       " 77: 0.9208400646203554,\n",
       " 78: 0.925686591276252,\n",
       " 79: 0.9240710823909531,\n",
       " 80: 0.9273021001615509,\n",
       " 81: 0.925686591276252,\n",
       " 82: 0.9273021001615509,\n",
       " 83: 0.9240710823909531,\n",
       " 84: 0.9289176090468497,\n",
       " 85: 0.925686591276252,\n",
       " 86: 0.9289176090468497,\n",
       " 87: 0.9240710823909531,\n",
       " 88: 0.9289176090468497,\n",
       " 89: 0.9273021001615509,\n",
       " 90: 0.925686591276252,\n",
       " 91: 0.9273021001615509,\n",
       " 92: 0.9289176090468497,\n",
       " 93: 0.925686591276252,\n",
       " 94: 0.925686591276252,\n",
       " 95: 0.9289176090468497,\n",
       " 96: 0.9273021001615509,\n",
       " 97: 0.9289176090468497,\n",
       " 98: 0.9289176090468497,\n",
       " 99: 0.925686591276252}"
      ]
     },
     "execution_count": 31,
     "metadata": {},
     "output_type": "execute_result"
    }
   ],
   "source": [
    "scores"
   ]
  },
  {
   "cell_type": "markdown",
   "metadata": {},
   "source": [
    "**Creating the following plot using the information from for loop.**"
   ]
  },
  {
   "cell_type": "code",
   "execution_count": 32,
   "metadata": {},
   "outputs": [
    {
     "data": {
      "text/plain": [
       "[<matplotlib.lines.Line2D at 0x212782f6e88>]"
      ]
     },
     "execution_count": 32,
     "metadata": {},
     "output_type": "execute_result"
    },
    {
     "data": {
      "image/png": "[encoded data removed]",
      "text/plain": [
       "<Figure size 864x504 with 1 Axes>"
      ]
     },
     "metadata": {
      "needs_background": "light"
     },
     "output_type": "display_data"
    }
   ],
   "source": [
    "plt.figure(figsize = (12,7))\n",
    "plt.plot(range(1, 100), scores_list)"
   ]
  },
  {
   "cell_type": "code",
   "execution_count": 33,
   "metadata": {
    "scrolled": false
   },
   "outputs": [
    {
     "data": {
      "text/plain": [
       "Text(0, 0.5, 'Error Rate')"
      ]
     },
     "execution_count": 33,
     "metadata": {},
     "output_type": "execute_result"
    },
    {
     "data": {
      "image/png": "[encoded data removed]",
      "text/plain": [
       "<Figure size 864x504 with 1 Axes>"
      ]
     },
     "metadata": {
      "needs_background": "light"
     },
     "output_type": "display_data"
    }
   ],
   "source": [
    "plt.figure(figsize = (12,7))\n",
    "plt.plot(range(1, 100), error_rate, color = 'blue', linestyle = 'dashed', marker = 'o',\n",
    "        markerfacecolor = 'red', markersize = 10)\n",
    "plt.title('Error Rate vs. K Value')\n",
    "plt.xlabel('K')\n",
    "plt.ylabel('Error Rate')"
   ]
  },
  {
   "cell_type": "markdown",
   "metadata": {},
   "source": [
    "## Retrain with new K Value\n",
    "\n",
    "**Retraining your model with the best K value (up to you to decide what you want) and re-do the classification report and the confusion matrix.**"
   ]
  },
  {
   "cell_type": "code",
   "execution_count": 34,
   "metadata": {},
   "outputs": [
    {
     "name": "stdout",
     "output_type": "stream",
     "text": [
      "WITH K = 58\n",
      "\n",
      "\n",
      "[[332  37]\n",
      " [ 13 237]]\n",
      "\n",
      "\n",
      "              precision    recall  f1-score   support\n",
      "\n",
      "           0       0.96      0.90      0.93       369\n",
      "           1       0.86      0.95      0.90       250\n",
      "\n",
      "    accuracy                           0.92       619\n",
      "   macro avg       0.91      0.92      0.92       619\n",
      "weighted avg       0.92      0.92      0.92       619\n",
      "\n"
     ]
    }
   ],
   "source": [
    "knn = KNeighborsClassifier(n_neighbors=58)\n",
    "\n",
    "knn.fit(X_train,y_train)\n",
    "pred = knn.predict(X_test)\n",
    "\n",
    "print('WITH K = 58')\n",
    "print('\\n')\n",
    "print(confusion_matrix(y_test,pred))\n",
    "print('\\n')\n",
    "print(classification_report(y_test,pred))"
   ]
  },
  {
   "cell_type": "code",
   "execution_count": 35,
   "metadata": {},
   "outputs": [],
   "source": [
    "from sklearn import metrics"
   ]
  },
  {
   "cell_type": "code",
   "execution_count": 36,
   "metadata": {},
   "outputs": [
    {
     "name": "stdout",
     "output_type": "stream",
     "text": [
      "Accuracy: 0.8562197092084006\n"
     ]
    }
   ],
   "source": [
    "print(\"Accuracy:\",metrics.accuracy_score(y_test, predictions))"
   ]
  },
  {
   "cell_type": "code",
   "execution_count": null,
   "metadata": {},
   "outputs": [],
   "source": []
  }
 ],
 "metadata": {
  "kernelspec": {
   "display_name": "Python 3",
   "language": "python",
   "name": "python3"
  },
  "language_info": {
   "codemirror_mode": {
    "name": "ipython",
    "version": 3
   },
   "file_extension": ".py",
   "mimetype": "text/x-python",
   "name": "python",
   "nbconvert_exporter": "python",
   "pygments_lexer": "ipython3",
   "version": "3.7.4"
  }
 },
 "nbformat": 4,
 "nbformat_minor": 2
}
